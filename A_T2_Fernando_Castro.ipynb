{
  "nbformat": 4,
  "nbformat_minor": 0,
  "metadata": {
    "colab": {
      "provenance": []
    },
    "kernelspec": {
      "name": "python3",
      "display_name": "Python 3"
    },
    "language_info": {
      "name": "python"
    }
  },
  "cells": [
    {
      "cell_type": "code",
      "execution_count": 2,
      "metadata": {
        "colab": {
          "base_uri": "https://localhost:8080/"
        },
        "id": "mYe3FGdsKlMp",
        "outputId": "91100d88-0b0b-4d3a-9b5f-84671af6225e"
      },
      "outputs": [
        {
          "output_type": "stream",
          "name": "stdout",
          "text": [
            "Ejercicio 1:\n",
            "Hola Mundo: Escribe un programa que imprima Hola, Mundo! en la pantalla.\n",
            "Hola Mundo\n"
          ]
        }
      ],
      "source": [
        "print(\"Ejercicio 1\")\n",
        "print(\"Hola Mundo: Escribe un programa que imprima Hola, Mundo! en la pantalla.\")\n",
        "print(\"Hola Mundo\")"
      ]
    },
    {
      "cell_type": "code",
      "source": [
        "print(\"Ejercicio 2\")\n",
        "print(\"Suma de dos números: Escribe un programa que pida al usuario dos números y los sume.\")\n",
        "num1=input(\"Por favor ingrese un número: \")\n",
        "num2=input(\"Por favor ingrese el segundo número: \")\n",
        "suma=int(num1)+int(num2)\n",
        "print(f\"La suma de {num1} + {num2} = {str(suma)}\")"
      ],
      "metadata": {
        "colab": {
          "base_uri": "https://localhost:8080/"
        },
        "id": "XxbkddX_L-r2",
        "outputId": "726be20d-bbbf-45cb-f15a-c0b6eaf9c495"
      },
      "execution_count": 4,
      "outputs": [
        {
          "output_type": "stream",
          "name": "stdout",
          "text": [
            "Ejercicio 2\n",
            "Suma de dos números: Escribe un programa que pida al usuario dos números y los sume.\n",
            "Por favor ingrese un número: 4\n",
            "Por favor ingrese el segundo número: 6\n",
            "La suma de 4 + 6 = 10\n"
          ]
        }
      ]
    },
    {
      "cell_type": "code",
      "source": [
        "print(\"Ejercicio 3\")\n",
        "print(\"Par o Impar: Escribe un programa que determine si un número introducido por el usuario es par o impar.\")\n",
        "numero=int(input(\"Por favor ingrese un número \"))\n",
        "if numero % 2==0:\n",
        "  print(f\"El número ingresado {numero} es: par\")\n",
        "else:\n",
        "  print(f\"El número ingresado {numero} es: impar\")"
      ],
      "metadata": {
        "colab": {
          "base_uri": "https://localhost:8080/"
        },
        "id": "TFkwKSETNAAJ",
        "outputId": "476f04f5-1ff6-42ed-f72c-66c6b6594b87"
      },
      "execution_count": 6,
      "outputs": [
        {
          "output_type": "stream",
          "name": "stdout",
          "text": [
            "Ejercicio 3\n",
            "Par o Impar: Escribe un programa que determine si un número introducido por el usuario es par o impar.\n",
            "Por favor ingrese un número 8\n",
            "El número ingresado 8 es: par\n"
          ]
        }
      ]
    },
    {
      "cell_type": "code",
      "source": [
        "print(\"Ejercicio 4\")\n",
        "print(\"Calculadora básica: Escribe un programa que realice operaciones básicas (suma, resta, multiplicación y división) entre dos números introducidos por el usuario.\")\n",
        "num1=int(input(\"Por favor ingrese un número: \"))\n",
        "num2=int(input(\"Por favor ingrese el segundo número: \"))\n",
        "op=\"\"\n",
        "while op!=0:\n",
        "  print(\"Elije una operación basica:\\nIngresa 1 para sumar\\nIngresa 2 para restar\\nIngresa 3 para multiplicar\\nIngresa 4 para dividir\\nIngresa 0 para salir\")\n",
        "  op=int(input(\"Ingrese la opción \"))\n",
        "  if op==0:\n",
        "    break\n",
        "  elif op==1:\n",
        "    print(f\"La suma de {num1} + {num2} = \"+str(num1+num2))\n",
        "  elif op==2:\n",
        "    print(f\"La resta de {num1} - {num2} = \"+str(num1-num2))\n",
        "  elif op==3:\n",
        "    print(f\"La multiplicación de {num1} x {num2} = \"+str(num1*num2))\n",
        "  elif op==4:\n",
        "    print(f\"La división de {num1} / {num2} = \"+str(num1/num2))"
      ],
      "metadata": {
        "colab": {
          "base_uri": "https://localhost:8080/"
        },
        "id": "1Wlg0wUgOaoj",
        "outputId": "89885a20-1cd4-46a2-8960-d4eecfbf0252"
      },
      "execution_count": 11,
      "outputs": [
        {
          "name": "stdout",
          "output_type": "stream",
          "text": [
            "Ejercicio 4\n",
            "Calculadora básica: Escribe un programa que realice operaciones básicas (suma, resta, multiplicación y división) entre dos números introducidos por el usuario.\n",
            "Por favor ingrese un número: 8\n",
            "Por favor ingrese el segundo número: 2\n",
            "Elije una operación basica:\n",
            "Ingresa 1 para sumar\n",
            "Ingresa 2 para restar\n",
            "Ingresa 3 para multiplicar\n",
            "Ingresa 4 para dividir\n",
            "Ingresa 0 para salir\n",
            "Ingrese la opción1\n",
            "La suma de 8 + 2 = 10\n",
            "Elije una operación basica:\n",
            "Ingresa 1 para sumar\n",
            "Ingresa 2 para restar\n",
            "Ingresa 3 para multiplicar\n",
            "Ingresa 4 para dividir\n",
            "Ingresa 0 para salir\n",
            "Ingrese la opción2\n",
            "La resta de 8 - 2 = 6\n",
            "Elije una operación basica:\n",
            "Ingresa 1 para sumar\n",
            "Ingresa 2 para restar\n",
            "Ingresa 3 para multiplicar\n",
            "Ingresa 4 para dividir\n",
            "Ingresa 0 para salir\n",
            "Ingrese la opción4\n",
            "La división de 8 / 2 = 4.0\n",
            "Elije una operación basica:\n",
            "Ingresa 1 para sumar\n",
            "Ingresa 2 para restar\n",
            "Ingresa 3 para multiplicar\n",
            "Ingresa 4 para dividir\n",
            "Ingresa 0 para salir\n",
            "Ingrese la opción3\n",
            "La multiplicación de 8 x 2 = 16\n",
            "Elije una operación basica:\n",
            "Ingresa 1 para sumar\n",
            "Ingresa 2 para restar\n",
            "Ingresa 3 para multiplicar\n",
            "Ingresa 4 para dividir\n",
            "Ingresa 0 para salir\n",
            "Ingrese la opción0\n"
          ]
        }
      ]
    },
    {
      "cell_type": "code",
      "source": [
        "print(\"Ejercicio 5\")\n",
        "print(\"Número mayor: Escribe un programa que pida tres números al usuario y determine cuál es el mayor.\")\n",
        "numeros=[]\n",
        "for i in range(0,3):\n",
        "  numeros.append(int(input(\"Ingrese un número \")))\n",
        "print(\"Número mayor es: \" + str(max(numeros)))"
      ],
      "metadata": {
        "colab": {
          "base_uri": "https://localhost:8080/"
        },
        "id": "0PDyh1RrTydG",
        "outputId": "b5bdbb89-8594-493a-c0ac-e416a3a74259"
      },
      "execution_count": 19,
      "outputs": [
        {
          "output_type": "stream",
          "name": "stdout",
          "text": [
            "Ejercicio 5\n",
            "Número mayor: Escribe un programa que pida tres números al usuario y determine cuál es el mayor.\n",
            "Ingrese un número 5\n",
            "Ingrese un número 8\n",
            "Ingrese un número 6\n",
            "Número mayor es:8\n"
          ]
        }
      ]
    },
    {
      "cell_type": "code",
      "source": [
        "print(\"Ejercicio 6\")\n",
        "print(\"Cálculo del área de un círculo: Escribe un programa que calcule el área de un círculo a partir de su radio, ingresado por el usuario.\")\n",
        "radio=int(input(\"Ingrese el radio del circulo: \"))\n",
        "import math\n",
        "area=math.pi*(radio**2)\n",
        "print(f\"El area del circulo de radio {radio} es: {area}\")"
      ],
      "metadata": {
        "colab": {
          "base_uri": "https://localhost:8080/"
        },
        "id": "cWh6OTjOVh1A",
        "outputId": "3a32ee5d-9c6c-4054-9c2f-19dc92b33d72"
      },
      "execution_count": 22,
      "outputs": [
        {
          "output_type": "stream",
          "name": "stdout",
          "text": [
            "Ejercicio 6\n",
            "Cálculo del área de un círculo: Escribe un programa que calcule el área de un círculo a partir de su radio, ingresado por el usuario.\n",
            "Ingrese el radio del circulo: 3\n",
            "El area del circulo de radio 3 es: 28.274333882308138\n"
          ]
        }
      ]
    },
    {
      "cell_type": "code",
      "source": [
        "print(\"Ejercicio 7\")\n",
        "print(\"Conversión de grados Celsius a Fahrenheit: Escribe un programa que convierta una temperatura dada en grados Celsius a grados Fahrenheit.\")\n",
        "temperatura=int(input(\"Ingrese temperatura en grados Celsius: \"))\n",
        "fahrenheit=(temperatura*1.8)+32\n",
        "print(f\"La temperatura de {temperatura} en grados Celsius es igual a {fahrenheit} grados fahrenheit\")"
      ],
      "metadata": {
        "colab": {
          "base_uri": "https://localhost:8080/"
        },
        "id": "ZL5DnSDYVUpY",
        "outputId": "f1d28f8c-1368-4afc-d791-e78c86cb0a6e"
      },
      "execution_count": 23,
      "outputs": [
        {
          "output_type": "stream",
          "name": "stdout",
          "text": [
            "Ejercicio 7\n",
            "Conversión de grados Celsius a Fahrenheit: Escribe un programa que convierta una temperatura dada en grados Celsius a grados Fahrenheit.\n",
            "Ingrese temperatura en grados Celsius: 40\n",
            "La temperatura de 40 en grados Celsius es igual a 104.0 grados fahrenheit\n"
          ]
        }
      ]
    },
    {
      "cell_type": "code",
      "source": [
        "print(\"Ejercicio 8\")\n",
        "print(\"Cuenta atrás: Escribe un programa que cuente hacia atrás desde 10 hasta 0.\")\n",
        "import time\n",
        "contador=10\n",
        "while contador>=0:\n",
        "  print(contador)\n",
        "  time.sleep(1)\n",
        "  contador-=1"
      ],
      "metadata": {
        "colab": {
          "base_uri": "https://localhost:8080/"
        },
        "id": "i-ZhUVJvYgPK",
        "outputId": "16108dc8-d649-4585-ee76-c55163824e3a"
      },
      "execution_count": 25,
      "outputs": [
        {
          "output_type": "stream",
          "name": "stdout",
          "text": [
            "Ejercicio 8\n",
            "Cuenta atrás: Escribe un programa que cuente hacia atrás desde 10 hasta 0.\n",
            "10\n",
            "9\n",
            "8\n",
            "7\n",
            "6\n",
            "5\n",
            "4\n",
            "3\n",
            "2\n",
            "1\n",
            "0\n"
          ]
        }
      ]
    },
    {
      "cell_type": "code",
      "source": [
        "print(\"Ejercicio 9\")\n",
        "print(\"Tabla de multiplicar: Escribe un programa que muestre la tabla de multiplicar de un número introducido por el usuario.\")\n",
        "multiplo=int(input(\"Ingrese un número para generar la tabla de multiplicar: \"))\n",
        "import time\n",
        "for i in range(0,13):\n",
        "  print(f\"{i} x {multiplo} = \"+str(i*multiplo))\n",
        "  time.sleep(1)"
      ],
      "metadata": {
        "colab": {
          "base_uri": "https://localhost:8080/"
        },
        "id": "OIttUA3Hc-u9",
        "outputId": "a31e8e7c-8c94-4908-884e-89606f7e194e"
      },
      "execution_count": 26,
      "outputs": [
        {
          "output_type": "stream",
          "name": "stdout",
          "text": [
            "Ejercicio 9\n",
            "Tabla de multiplicar: Escribe un programa que muestre la tabla de multiplicar de un número introducido por el usuario.\n",
            "Ingrese un número para generar la tabla de multiplicar: 5\n",
            "0 x 5 =0\n",
            "1 x 5 =5\n",
            "2 x 5 =10\n",
            "3 x 5 =15\n",
            "4 x 5 =20\n",
            "5 x 5 =25\n",
            "6 x 5 =30\n",
            "7 x 5 =35\n",
            "8 x 5 =40\n",
            "9 x 5 =45\n",
            "10 x 5 =50\n",
            "11 x 5 =55\n",
            "12 x 5 =60\n"
          ]
        }
      ]
    },
    {
      "cell_type": "code",
      "source": [
        "print(\"Ejercicio 10\")\n",
        "print(\"Números primos: Escribe un programa que determine si un número introducido por el usuario es primo\")\n",
        "num=int(input(\"Ingrese un número: \"))\n",
        "lam = lambda num : all(num % i for i in range(2, num))\n",
        "primo = lam(num)\n",
        "if primo:\n",
        "  print(f\"El número {num} es primo\")\n",
        "else:\n",
        "  print(f\"El número {num} no es primo\")"
      ],
      "metadata": {
        "colab": {
          "base_uri": "https://localhost:8080/"
        },
        "id": "36wi3zYmeP06",
        "outputId": "6678b146-68b2-4416-f4e0-745d9c49f44f"
      },
      "execution_count": 42,
      "outputs": [
        {
          "output_type": "stream",
          "name": "stdout",
          "text": [
            "Ejercicio 10\n",
            "Números primos: Escribe un programa que determine si un número introducido por el usuario es primo\n",
            "Ingrese un número: 18\n",
            "El número 18 no es primo\n"
          ]
        }
      ]
    },
    {
      "cell_type": "code",
      "source": [
        "print(\"Ejercicio 11\")\n",
        "print(\"Sumar números hasta un límite: Escribe un programa que sume todos los números naturales hasta un número límite introducido por el usuario\")\n",
        "num=int(input(\"Ingrese un número: \"))\n",
        "suma=0\n",
        "for i in range(1,num+1):\n",
        "  suma+=i\n",
        "print(f\"La suma es: {suma}\")"
      ],
      "metadata": {
        "colab": {
          "base_uri": "https://localhost:8080/"
        },
        "id": "vY1_6ljpe978",
        "outputId": "1e12eefa-cc44-4ee4-8afb-a332dbbc247e"
      },
      "execution_count": 43,
      "outputs": [
        {
          "output_type": "stream",
          "name": "stdout",
          "text": [
            "Ejercicio 11\n",
            "Sumar números hasta un límite: Escribe un programa que sume todos los números naturales hasta un número límite introducido por el usuario\n",
            "Ingrese un número: 5\n",
            "La suma es: 15\n"
          ]
        }
      ]
    },
    {
      "cell_type": "code",
      "source": [
        "print(\"Ejercicio 12\")\n",
        "print(\"Invertir una cadena: Escribe un programa que invierta una cadena introducida por el usuario.\")\n",
        "cadena=list(input(\"Ingrese la cadena \"))\n",
        "cadena.reverse()\n",
        "cadenainvertida=\"\"\n",
        "for i in cadena:\n",
        "  cadenainvertida+=i\n",
        "print(\"La cadena invertida es= \"+str(cadenainvertida))"
      ],
      "metadata": {
        "colab": {
          "base_uri": "https://localhost:8080/"
        },
        "id": "ufu6UJlEh2g4",
        "outputId": "6082c12b-9545-4618-da88-3a219cad06fd"
      },
      "execution_count": 56,
      "outputs": [
        {
          "output_type": "stream",
          "name": "stdout",
          "text": [
            "Ejercicio 12\n",
            "Invertir una cadena: Escribe un programa que invierta una cadena introducida por el usuario.\n",
            "Ingrese la cadena Hola Mundo\n",
            "La cadena invertida es= odnuM aloH\n"
          ]
        }
      ]
    },
    {
      "cell_type": "code",
      "source": [
        "print(\"Ejercicio 13\")\n",
        "print(\"Contar vocales: Escribe un programa que cuente el número de vocales en una cadena introducida por el usuario.\")\n",
        "cadena=list(input(\"Ingrese la cadena \"))\n",
        "print(\"El número de vocales de la cadena ingresada es: \"+str(len(list(filter(lambda x: x[0].lower() in 'aeiou', cadena)))))"
      ],
      "metadata": {
        "colab": {
          "base_uri": "https://localhost:8080/"
        },
        "id": "vFI9Dr8BkYq7",
        "outputId": "6c9f119b-1fe0-4fac-fb51-8850ba414e66"
      },
      "execution_count": 58,
      "outputs": [
        {
          "output_type": "stream",
          "name": "stdout",
          "text": [
            "Ejercicio 13\n",
            "Contar vocales: Escribe un programa que cuente el número de vocales en una cadena introducida por el usuario.\n",
            "Ingrese la cadena Hola Mundo\n",
            "['o', 'a', 'u', 'o']\n",
            "El número de vocales de la cadena ingresada es: 4\n"
          ]
        }
      ]
    },
    {
      "cell_type": "code",
      "source": [
        "print(\"Ejercicio 14\")\n",
        "print(\"Palíndromo: Escribe un programa que determine si una cadena introducida por el usuario es un palíndromo.\")\n",
        "cadena=list(input(\"Ingrese la cadena \").upper())\n",
        "rev=list(reversed(cadena))\n",
        "if cadena==rev:\n",
        "  print(\"La cadena es un palindromo\")\n",
        "else:\n",
        "  print(\"La cadena no es un palindromo\")\n"
      ],
      "metadata": {
        "colab": {
          "base_uri": "https://localhost:8080/"
        },
        "id": "6Vqnl2aDkYRg",
        "outputId": "384b8cfd-58e9-4397-e077-f3566ccffab9"
      },
      "execution_count": 74,
      "outputs": [
        {
          "output_type": "stream",
          "name": "stdout",
          "text": [
            "Ejercicio 14\n",
            "Palíndromo: Escribe un programa que determine si una cadena introducida por el usuario es un palíndromo.\n",
            "Ingrese la cadena juan\n",
            "La cadena no es un palindromo\n"
          ]
        }
      ]
    },
    {
      "cell_type": "code",
      "source": [
        "print(\"Ejercicio 15\")\n",
        "print(\"Factorial de un número: Escribe un programa que calcule el factorial de un número introducido por el usuario.\")\n",
        "def factorial(n):\n",
        "    if n==1:\n",
        "        return 1\n",
        "    else:\n",
        "        return n * factorial(n-1)\n",
        "print(factorial(int(input(\"Ingrese un número: \"))))"
      ],
      "metadata": {
        "colab": {
          "base_uri": "https://localhost:8080/"
        },
        "id": "640lUHtfkTHm",
        "outputId": "80b4004f-4427-4793-9f63-bc902d14b1b6"
      },
      "execution_count": 75,
      "outputs": [
        {
          "output_type": "stream",
          "name": "stdout",
          "text": [
            "Ejercicio 15\n",
            "Factorial de un número: Escribe un programa que calcule el factorial de un número introducido por el usuario.\n",
            "Ingrese un número: 5\n",
            "120\n"
          ]
        }
      ]
    },
    {
      "cell_type": "code",
      "source": [
        "print(\"Ejercicio 16\")\n",
        "print(\"Generar números aleatorios: Escribe un programa que genere y muestre 5 números aleatorios entre 1 y 100.\")\n",
        "import random\n",
        "for i in range(1,6):\n",
        "  print(f\"{i}.- \"+str(random.randint(1,100)))\n"
      ],
      "metadata": {
        "colab": {
          "base_uri": "https://localhost:8080/"
        },
        "id": "rC9bV7IHoRNz",
        "outputId": "3810bbd3-2e32-4244-835a-e77a85b9c50e"
      },
      "execution_count": 79,
      "outputs": [
        {
          "output_type": "stream",
          "name": "stdout",
          "text": [
            "Ejercicio 16\n",
            "Generar números aleatorios: Escribe un programa que genere y muestre 5 números aleatorios entre 1 y 100.\n",
            "1.- 96\n",
            "2.- 36\n",
            "3.- 7\n",
            "4.- 34\n",
            "5.- 49\n"
          ]
        }
      ]
    },
    {
      "cell_type": "code",
      "source": [
        "print(\"Ejercicio 17\")\n",
        "print(\"Calculadora de índice de masa corporal (IMC): Escribe un programa que calcule el índice de masa corporal (IMC) a partir del peso y la altura introducidos por el usuario.\")\n",
        "peso=float(input(\"Ingrese el peso de la persona en kg \"))\n",
        "estatura=float(input(\"Ingrese la estatura en m \"))\n",
        "print(f\"El IMC de una persona con estatura {estatura} y peso {peso} es:\\n\"+str(peso/(estatura**2)))\n"
      ],
      "metadata": {
        "colab": {
          "base_uri": "https://localhost:8080/"
        },
        "id": "Yw_MutSkpIj6",
        "outputId": "7f2c2541-d0bb-4ccc-ac81-805cb73ed888"
      },
      "execution_count": 83,
      "outputs": [
        {
          "output_type": "stream",
          "name": "stdout",
          "text": [
            "Ejercicio 17\n",
            "Calculadora de índice de masa corporal (IMC): Escribe un programa que calcule el índice de masa corporal (IMC) a partir del peso y la altura introducidos por el usuario.\n",
            "Ingrese el peso de la persona en kg 68\n",
            "Ingrese la estatura en m 1.68\n",
            "El IMC de una persona con estatura 1.68 y peso 68.0 es:\n",
            "24.092970521541954\n"
          ]
        }
      ]
    },
    {
      "cell_type": "markdown",
      "source": [],
      "metadata": {
        "id": "9QpSgipOYfMA"
      }
    }
  ]
}